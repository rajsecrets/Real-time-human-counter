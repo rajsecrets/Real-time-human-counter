{
 "cells": [
  {
   "cell_type": "code",
   "execution_count": 1,
   "id": "0bef141a-bd36-4850-9c3b-7ec1bbea51c8",
   "metadata": {},
   "outputs": [],
   "source": [
    "import pandas as pd\n",
    "import numpy as np"
   ]
  },
  {
   "cell_type": "code",
   "execution_count": 2,
   "id": "e8779e16-ca82-4aa3-b37f-aedadee9c40e",
   "metadata": {},
   "outputs": [],
   "source": [
    "df = pd.read_csv('data.csv',encoding='cp1252',low_memory=False)"
   ]
  },
  {
   "cell_type": "code",
   "execution_count": 3,
   "id": "c11ebb82-c132-4d7e-9b58-5eb1dfe7f35a",
   "metadata": {},
   "outputs": [
    {
     "name": "stdout",
     "output_type": "stream",
     "text": [
      "  stn_code       sampling_date           state   location agency  \\\n",
      "0      150  February - M021990  Andhra Pradesh  Hyderabad    NaN   \n",
      "1      151  February - M021990  Andhra Pradesh  Hyderabad    NaN   \n",
      "2      152  February - M021990  Andhra Pradesh  Hyderabad    NaN   \n",
      "3      150     March - M031990  Andhra Pradesh  Hyderabad    NaN   \n",
      "4      151     March - M031990  Andhra Pradesh  Hyderabad    NaN   \n",
      "\n",
      "                                 type  so2   no2  rspm  spm  \\\n",
      "0  Residential, Rural and other Areas  4.8  17.4   NaN  NaN   \n",
      "1                     Industrial Area  3.1   7.0   NaN  NaN   \n",
      "2  Residential, Rural and other Areas  6.2  28.5   NaN  NaN   \n",
      "3  Residential, Rural and other Areas  6.3  14.7   NaN  NaN   \n",
      "4                     Industrial Area  4.7   7.5   NaN  NaN   \n",
      "\n",
      "  location_monitoring_station  pm2_5        date  \n",
      "0                         NaN    NaN  1990-02-01  \n",
      "1                         NaN    NaN  1990-02-01  \n",
      "2                         NaN    NaN  1990-02-01  \n",
      "3                         NaN    NaN  1990-03-01  \n",
      "4                         NaN    NaN  1990-03-01  \n"
     ]
    }
   ],
   "source": [
    "print(df.head())"
   ]
  },
  {
   "cell_type": "code",
   "execution_count": 4,
   "id": "94c0b2be-8e9a-4e8e-aef0-74e8ed7f22c8",
   "metadata": {},
   "outputs": [
    {
     "data": {
      "text/plain": [
       "stn_code                        object\n",
       "sampling_date                   object\n",
       "state                           object\n",
       "location                        object\n",
       "agency                          object\n",
       "type                            object\n",
       "so2                            float64\n",
       "no2                            float64\n",
       "rspm                           float64\n",
       "spm                            float64\n",
       "location_monitoring_station     object\n",
       "pm2_5                          float64\n",
       "date                            object\n",
       "dtype: object"
      ]
     },
     "execution_count": 4,
     "metadata": {},
     "output_type": "execute_result"
    }
   ],
   "source": [
    "df.dtypes"
   ]
  },
  {
   "cell_type": "code",
   "execution_count": 5,
   "id": "738b7fa0-c062-47b7-9121-ec787f8ce040",
   "metadata": {},
   "outputs": [
    {
     "name": "stdout",
     "output_type": "stream",
     "text": [
      "<class 'pandas.core.frame.DataFrame'>\n",
      "RangeIndex: 435742 entries, 0 to 435741\n",
      "Data columns (total 13 columns):\n",
      " #   Column                       Non-Null Count   Dtype  \n",
      "---  ------                       --------------   -----  \n",
      " 0   stn_code                     291665 non-null  object \n",
      " 1   sampling_date                435739 non-null  object \n",
      " 2   state                        435742 non-null  object \n",
      " 3   location                     435739 non-null  object \n",
      " 4   agency                       286261 non-null  object \n",
      " 5   type                         430349 non-null  object \n",
      " 6   so2                          401096 non-null  float64\n",
      " 7   no2                          419509 non-null  float64\n",
      " 8   rspm                         395520 non-null  float64\n",
      " 9   spm                          198355 non-null  float64\n",
      " 10  location_monitoring_station  408251 non-null  object \n",
      " 11  pm2_5                        9314 non-null    float64\n",
      " 12  date                         435735 non-null  object \n",
      "dtypes: float64(5), object(8)\n",
      "memory usage: 43.2+ MB\n"
     ]
    }
   ],
   "source": [
    "df.info()"
   ]
  },
  {
   "cell_type": "code",
   "execution_count": 6,
   "id": "75e0839f-c793-4cb1-a771-8ac5ac73b340",
   "metadata": {},
   "outputs": [
    {
     "data": {
      "text/plain": [
       "(435742, 13)"
      ]
     },
     "execution_count": 6,
     "metadata": {},
     "output_type": "execute_result"
    }
   ],
   "source": [
    "df.shape"
   ]
  },
  {
   "cell_type": "code",
   "execution_count": 7,
   "id": "f17a70a9-6d38-48d5-a3ed-738807570434",
   "metadata": {},
   "outputs": [
    {
     "data": {
      "text/plain": [
       "stn_code                       144077\n",
       "sampling_date                       3\n",
       "state                               0\n",
       "location                            3\n",
       "agency                         149481\n",
       "type                             5393\n",
       "so2                             34646\n",
       "no2                             16233\n",
       "rspm                            40222\n",
       "spm                            237387\n",
       "location_monitoring_station     27491\n",
       "pm2_5                          426428\n",
       "date                                7\n",
       "dtype: int64"
      ]
     },
     "execution_count": 7,
     "metadata": {},
     "output_type": "execute_result"
    }
   ],
   "source": [
    "df.isnull().sum()"
   ]
  },
  {
   "cell_type": "code",
   "execution_count": 8,
   "id": "9b334c82-f89b-45fa-81df-13a23d6142ae",
   "metadata": {},
   "outputs": [
    {
     "data": {
      "text/plain": [
       "array(['Andhra Pradesh', 'Arunachal Pradesh', 'Assam', 'Bihar',\n",
       "       'Chandigarh', 'Chhattisgarh', 'Dadra & Nagar Haveli',\n",
       "       'Daman & Diu', 'Delhi', 'Goa', 'Gujarat', 'Haryana',\n",
       "       'Himachal Pradesh', 'Jammu & Kashmir', 'Jharkhand', 'Karnataka',\n",
       "       'Kerala', 'Madhya Pradesh', 'Maharashtra', 'Manipur', 'Meghalaya',\n",
       "       'Mizoram', 'Nagaland', 'Odisha', 'Puducherry', 'Punjab',\n",
       "       'Rajasthan', 'Sikkim', 'Tamil Nadu', 'Telangana', 'Uttar Pradesh',\n",
       "       'Uttarakhand', 'Uttaranchal', 'West Bengal',\n",
       "       'andaman-and-nicobar-islands', 'Lakshadweep', 'Tripura'],\n",
       "      dtype=object)"
      ]
     },
     "execution_count": 8,
     "metadata": {},
     "output_type": "execute_result"
    }
   ],
   "source": [
    "df['state'].unique()"
   ]
  },
  {
   "cell_type": "code",
   "execution_count": 9,
   "id": "d07a3a14-4f5b-498b-a314-85081228a301",
   "metadata": {},
   "outputs": [
    {
     "data": {
      "text/plain": [
       "674"
      ]
     },
     "execution_count": 9,
     "metadata": {},
     "output_type": "execute_result"
    }
   ],
   "source": [
    "df.duplicated().sum()"
   ]
  },
  {
   "cell_type": "code",
   "execution_count": 10,
   "id": "c7b007dd-52db-4045-8c59-d6b95a29bf76",
   "metadata": {},
   "outputs": [],
   "source": [
    "df = df.drop_duplicates()"
   ]
  },
  {
   "cell_type": "code",
   "execution_count": 11,
   "id": "3f2f1d9e-126c-40f4-8703-2bfca43fd0f7",
   "metadata": {},
   "outputs": [
    {
     "data": {
      "text/plain": [
       "0"
      ]
     },
     "execution_count": 11,
     "metadata": {},
     "output_type": "execute_result"
    }
   ],
   "source": [
    "df.duplicated().sum()"
   ]
  },
  {
   "cell_type": "code",
   "execution_count": 13,
   "id": "8eccc0f0-f6d9-4b12-bbbc-a7fcbfd52fa1",
   "metadata": {},
   "outputs": [],
   "source": [
    "df = df.dropna(axis='index',how='any',subset=['sampling_date'])"
   ]
  },
  {
   "cell_type": "code",
   "execution_count": 14,
   "id": "ff6e9148-ea74-4455-97b2-30d5492b2d6c",
   "metadata": {},
   "outputs": [
    {
     "data": {
      "text/plain": [
       "0"
      ]
     },
     "execution_count": 14,
     "metadata": {},
     "output_type": "execute_result"
    }
   ],
   "source": [
    "df['sampling_date'].isnull().sum()"
   ]
  },
  {
   "cell_type": "code",
   "execution_count": 18,
   "id": "4e33bf5b-1ce2-446c-8c1b-7a1ed2e2cea7",
   "metadata": {},
   "outputs": [
    {
     "data": {
      "text/html": [
       "<div>\n",
       "<style scoped>\n",
       "    .dataframe tbody tr th:only-of-type {\n",
       "        vertical-align: middle;\n",
       "    }\n",
       "\n",
       "    .dataframe tbody tr th {\n",
       "        vertical-align: top;\n",
       "    }\n",
       "\n",
       "    .dataframe thead th {\n",
       "        text-align: right;\n",
       "    }\n",
       "</style>\n",
       "<table border=\"1\" class=\"dataframe\">\n",
       "  <thead>\n",
       "    <tr style=\"text-align: right;\">\n",
       "      <th></th>\n",
       "      <th>stn_code</th>\n",
       "      <th>sampling_date</th>\n",
       "      <th>state</th>\n",
       "      <th>location</th>\n",
       "      <th>agency</th>\n",
       "      <th>type</th>\n",
       "      <th>so2</th>\n",
       "      <th>no2</th>\n",
       "      <th>rspm</th>\n",
       "      <th>spm</th>\n",
       "      <th>location_monitoring_station</th>\n",
       "      <th>pm2_5</th>\n",
       "      <th>date</th>\n",
       "    </tr>\n",
       "  </thead>\n",
       "  <tbody>\n",
       "    <tr>\n",
       "      <th>148537</th>\n",
       "      <td>598</td>\n",
       "      <td>31/9/2014</td>\n",
       "      <td>Karnataka</td>\n",
       "      <td>Bangalore</td>\n",
       "      <td>Karnataka State Pollution Control Board</td>\n",
       "      <td>Sensitive Area</td>\n",
       "      <td>6.0</td>\n",
       "      <td>8.0</td>\n",
       "      <td>25.0</td>\n",
       "      <td>NaN</td>\n",
       "      <td>Department of Environmental Science, Jnanabhar...</td>\n",
       "      <td>NaN</td>\n",
       "      <td>NaN</td>\n",
       "    </tr>\n",
       "    <tr>\n",
       "      <th>245191</th>\n",
       "      <td>281</td>\n",
       "      <td>31/6/2014</td>\n",
       "      <td>Maharashtra</td>\n",
       "      <td>Chandrapur</td>\n",
       "      <td>Maharashtra State Pollution Control Board</td>\n",
       "      <td>Industrial Area</td>\n",
       "      <td>11.0</td>\n",
       "      <td>25.0</td>\n",
       "      <td>80.0</td>\n",
       "      <td>NaN</td>\n",
       "      <td>M.I.D.C. Chandrapur.</td>\n",
       "      <td>NaN</td>\n",
       "      <td>NaN</td>\n",
       "    </tr>\n",
       "    <tr>\n",
       "      <th>245355</th>\n",
       "      <td>639</td>\n",
       "      <td>31/6/2014</td>\n",
       "      <td>Maharashtra</td>\n",
       "      <td>Chandrapur</td>\n",
       "      <td>Maharashtra State Pollution Control Board</td>\n",
       "      <td>Residential, Rural and other Areas</td>\n",
       "      <td>12.0</td>\n",
       "      <td>41.0</td>\n",
       "      <td>104.0</td>\n",
       "      <td>NaN</td>\n",
       "      <td>Muncipal Council, Ballarshah, Chandrapur</td>\n",
       "      <td>NaN</td>\n",
       "      <td>NaN</td>\n",
       "    </tr>\n",
       "    <tr>\n",
       "      <th>284318</th>\n",
       "      <td>690</td>\n",
       "      <td>31/11/2014</td>\n",
       "      <td>Odisha</td>\n",
       "      <td>Balasore</td>\n",
       "      <td>Odisha State Pollution Control Board</td>\n",
       "      <td>Industrial Area</td>\n",
       "      <td>9.0</td>\n",
       "      <td>14.0</td>\n",
       "      <td>105.0</td>\n",
       "      <td>NaN</td>\n",
       "      <td>Rasulpur, Near Balgopalpur Industrial Area</td>\n",
       "      <td>NaN</td>\n",
       "      <td>NaN</td>\n",
       "    </tr>\n",
       "  </tbody>\n",
       "</table>\n",
       "</div>"
      ],
      "text/plain": [
       "       stn_code sampling_date        state    location  \\\n",
       "148537      598     31/9/2014    Karnataka   Bangalore   \n",
       "245191      281     31/6/2014  Maharashtra  Chandrapur   \n",
       "245355      639     31/6/2014  Maharashtra  Chandrapur   \n",
       "284318      690    31/11/2014       Odisha    Balasore   \n",
       "\n",
       "                                           agency  \\\n",
       "148537    Karnataka State Pollution Control Board   \n",
       "245191  Maharashtra State Pollution Control Board   \n",
       "245355  Maharashtra State Pollution Control Board   \n",
       "284318       Odisha State Pollution Control Board   \n",
       "\n",
       "                                      type   so2   no2   rspm  spm  \\\n",
       "148537                      Sensitive Area   6.0   8.0   25.0  NaN   \n",
       "245191                     Industrial Area  11.0  25.0   80.0  NaN   \n",
       "245355  Residential, Rural and other Areas  12.0  41.0  104.0  NaN   \n",
       "284318                     Industrial Area   9.0  14.0  105.0  NaN   \n",
       "\n",
       "                              location_monitoring_station  pm2_5 date  \n",
       "148537  Department of Environmental Science, Jnanabhar...    NaN  NaN  \n",
       "245191                               M.I.D.C. Chandrapur.    NaN  NaN  \n",
       "245355           Muncipal Council, Ballarshah, Chandrapur    NaN  NaN  \n",
       "284318         Rasulpur, Near Balgopalpur Industrial Area    NaN  NaN  "
      ]
     },
     "execution_count": 18,
     "metadata": {},
     "output_type": "execute_result"
    }
   ],
   "source": [
    "df[df['date'].isnull()]"
   ]
  },
  {
   "cell_type": "code",
   "execution_count": 20,
   "id": "377796c7-83f1-4904-afc5-96918eccc5da",
   "metadata": {},
   "outputs": [],
   "source": [
    "df = df.dropna(subset=['date'])"
   ]
  },
  {
   "cell_type": "code",
   "execution_count": 21,
   "id": "38a0f467-83d2-47d0-9967-a4cf3d608fde",
   "metadata": {},
   "outputs": [
    {
     "data": {
      "text/plain": [
       "0"
      ]
     },
     "execution_count": 21,
     "metadata": {},
     "output_type": "execute_result"
    }
   ],
   "source": [
    "df['date'].isnull().sum()"
   ]
  },
  {
   "cell_type": "code",
   "execution_count": 22,
   "id": "44683e65-c2a4-43fe-8ec3-3cceb07320cc",
   "metadata": {},
   "outputs": [],
   "source": [
    "state_df = df.groupby('state') "
   ]
  },
  {
   "cell_type": "code",
   "execution_count": 23,
   "id": "7e86c21a-5046-4472-aa28-68bcf45ea7d4",
   "metadata": {},
   "outputs": [
    {
     "data": {
      "text/plain": [
       "state\n",
       "Andhra Pradesh           7.307228\n",
       "Arunachal Pradesh        3.179104\n",
       "Assam                    6.722960\n",
       "Bihar                   19.357507\n",
       "Chandigarh               2.671652\n",
       "Chhattisgarh            12.846609\n",
       "Dadra & Nagar Haveli     8.946019\n",
       "Daman & Diu              8.198198\n",
       "Delhi                    8.736373\n",
       "Goa                      6.829714\n",
       "Gujarat                 16.630864\n",
       "Haryana                 14.042374\n",
       "Himachal Pradesh         2.666929\n",
       "Jammu & Kashmir          7.180521\n",
       "Jharkhand               23.485794\n",
       "Karnataka               10.219224\n",
       "Kerala                   5.334978\n",
       "Madhya Pradesh          11.587397\n",
       "Maharashtra             17.382238\n",
       "Manipur                  3.900000\n",
       "Meghalaya                8.955908\n",
       "Mizoram                  2.085048\n",
       "Nagaland                 2.059736\n",
       "Odisha                   5.271345\n",
       "Puducherry              11.958212\n",
       "Punjab                  10.628598\n",
       "Rajasthan                7.660400\n",
       "Sikkim                  19.800000\n",
       "Tamil Nadu              11.313815\n",
       "Telangana                5.418609\n",
       "Uttar Pradesh           12.518664\n",
       "Uttarakhand             24.339461\n",
       "Uttaranchal             24.697736\n",
       "West Bengal             12.586563\n",
       "Name: so2, dtype: float64"
      ]
     },
     "execution_count": 23,
     "metadata": {},
     "output_type": "execute_result"
    }
   ],
   "source": [
    "state_df['so2'].mean()"
   ]
  },
  {
   "cell_type": "code",
   "execution_count": 24,
   "id": "dc491012-97f7-46fb-b922-640faa98e0ef",
   "metadata": {},
   "outputs": [],
   "source": [
    "new_column = state_df['so2'].apply(lambda x: x.fillna(x.mean()))"
   ]
  },
  {
   "cell_type": "code",
   "execution_count": 27,
   "id": "8e23c2ac-e2c8-401b-ae17-e5e52a9990af",
   "metadata": {},
   "outputs": [
    {
     "data": {
      "text/plain": [
       "0"
      ]
     },
     "execution_count": 27,
     "metadata": {},
     "output_type": "execute_result"
    }
   ],
   "source": [
    "new_column.isnull().sum()"
   ]
  },
  {
   "cell_type": "code",
   "execution_count": 32,
   "id": "39aa651e-fc03-46ec-be30-fd50ae1ea246",
   "metadata": {},
   "outputs": [
    {
     "data": {
      "text/plain": [
       "state                 \n",
       "Andhra Pradesh  0          4.8\n",
       "                1          3.1\n",
       "                2          6.2\n",
       "                3          6.3\n",
       "                4          4.7\n",
       "                          ... \n",
       "West Bengal     435734    20.0\n",
       "                435735    17.0\n",
       "                435736    18.0\n",
       "                435737    22.0\n",
       "                435738    20.0\n",
       "Name: so2, Length: 435061, dtype: float64"
      ]
     },
     "execution_count": 32,
     "metadata": {},
     "output_type": "execute_result"
    }
   ],
   "source": [
    "new_column"
   ]
  },
  {
   "cell_type": "code",
   "execution_count": null,
   "id": "daa3c2f0-1aa3-4fff-b0d8-cfde4b93ebe8",
   "metadata": {},
   "outputs": [],
   "source": []
  }
 ],
 "metadata": {
  "kernelspec": {
   "display_name": "Python 3 (ipykernel)",
   "language": "python",
   "name": "python3"
  },
  "language_info": {
   "codemirror_mode": {
    "name": "ipython",
    "version": 3
   },
   "file_extension": ".py",
   "mimetype": "text/x-python",
   "name": "python",
   "nbconvert_exporter": "python",
   "pygments_lexer": "ipython3",
   "version": "3.12.0"
  }
 },
 "nbformat": 4,
 "nbformat_minor": 5
}
